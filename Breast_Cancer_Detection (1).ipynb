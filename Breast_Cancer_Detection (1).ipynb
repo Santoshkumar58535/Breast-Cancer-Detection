{
  "nbformat": 4,
  "nbformat_minor": 0,
  "metadata": {
    "colab": {
      "name": "Breast Cancer Detection.ipynb",
      "provenance": []
    },
    "kernelspec": {
      "name": "python3",
      "display_name": "Python 3"
    },
    "language_info": {
      "name": "python"
    }
  },
  "cells": [
    {
      "cell_type": "code",
      "metadata": {
        "id": "WyWeSmSgSKLD"
      },
      "source": [
        "import pandas as pd\n",
        "import numpy as np\n",
        "\n",
        "from sklearn.datasets import load_breast_cancer\n",
        "from sklearn.preprocessing import StandardScaler\n",
        "\n",
        "from keras.models import Sequential\n",
        "from keras.layers import Dense"
      ],
      "execution_count": 1,
      "outputs": []
    },
    {
      "cell_type": "code",
      "metadata": {
        "id": "-4PnXHM2SZJh"
      },
      "source": [
        "data = load_breast_cancer()"
      ],
      "execution_count": 2,
      "outputs": []
    },
    {
      "cell_type": "code",
      "metadata": {
        "colab": {
          "base_uri": "https://localhost:8080/"
        },
        "id": "__Ky3qbQSe8R",
        "outputId": "39c883d4-f5b7-4c03-8a76-6d8fb5427fb9"
      },
      "source": [
        "data.keys()"
      ],
      "execution_count": 3,
      "outputs": [
        {
          "output_type": "execute_result",
          "data": {
            "text/plain": [
              "dict_keys(['data', 'target', 'target_names', 'DESCR', 'feature_names', 'filename'])"
            ]
          },
          "metadata": {},
          "execution_count": 3
        }
      ]
    },
    {
      "cell_type": "code",
      "metadata": {
        "colab": {
          "base_uri": "https://localhost:8080/"
        },
        "id": "AeY47bQaSizh",
        "outputId": "a8630ade-6235-45ef-920a-b2a3abd93f13"
      },
      "source": [
        "print(data['DESCR'])"
      ],
      "execution_count": 4,
      "outputs": [
        {
          "output_type": "stream",
          "name": "stdout",
          "text": [
            ".. _breast_cancer_dataset:\n",
            "\n",
            "Breast cancer wisconsin (diagnostic) dataset\n",
            "--------------------------------------------\n",
            "\n",
            "**Data Set Characteristics:**\n",
            "\n",
            "    :Number of Instances: 569\n",
            "\n",
            "    :Number of Attributes: 30 numeric, predictive attributes and the class\n",
            "\n",
            "    :Attribute Information:\n",
            "        - radius (mean of distances from center to points on the perimeter)\n",
            "        - texture (standard deviation of gray-scale values)\n",
            "        - perimeter\n",
            "        - area\n",
            "        - smoothness (local variation in radius lengths)\n",
            "        - compactness (perimeter^2 / area - 1.0)\n",
            "        - concavity (severity of concave portions of the contour)\n",
            "        - concave points (number of concave portions of the contour)\n",
            "        - symmetry \n",
            "        - fractal dimension (\"coastline approximation\" - 1)\n",
            "\n",
            "        The mean, standard error, and \"worst\" or largest (mean of the three\n",
            "        largest values) of these features were computed for each image,\n",
            "        resulting in 30 features.  For instance, field 3 is Mean Radius, field\n",
            "        13 is Radius SE, field 23 is Worst Radius.\n",
            "\n",
            "        - class:\n",
            "                - WDBC-Malignant\n",
            "                - WDBC-Benign\n",
            "\n",
            "    :Summary Statistics:\n",
            "\n",
            "    ===================================== ====== ======\n",
            "                                           Min    Max\n",
            "    ===================================== ====== ======\n",
            "    radius (mean):                        6.981  28.11\n",
            "    texture (mean):                       9.71   39.28\n",
            "    perimeter (mean):                     43.79  188.5\n",
            "    area (mean):                          143.5  2501.0\n",
            "    smoothness (mean):                    0.053  0.163\n",
            "    compactness (mean):                   0.019  0.345\n",
            "    concavity (mean):                     0.0    0.427\n",
            "    concave points (mean):                0.0    0.201\n",
            "    symmetry (mean):                      0.106  0.304\n",
            "    fractal dimension (mean):             0.05   0.097\n",
            "    radius (standard error):              0.112  2.873\n",
            "    texture (standard error):             0.36   4.885\n",
            "    perimeter (standard error):           0.757  21.98\n",
            "    area (standard error):                6.802  542.2\n",
            "    smoothness (standard error):          0.002  0.031\n",
            "    compactness (standard error):         0.002  0.135\n",
            "    concavity (standard error):           0.0    0.396\n",
            "    concave points (standard error):      0.0    0.053\n",
            "    symmetry (standard error):            0.008  0.079\n",
            "    fractal dimension (standard error):   0.001  0.03\n",
            "    radius (worst):                       7.93   36.04\n",
            "    texture (worst):                      12.02  49.54\n",
            "    perimeter (worst):                    50.41  251.2\n",
            "    area (worst):                         185.2  4254.0\n",
            "    smoothness (worst):                   0.071  0.223\n",
            "    compactness (worst):                  0.027  1.058\n",
            "    concavity (worst):                    0.0    1.252\n",
            "    concave points (worst):               0.0    0.291\n",
            "    symmetry (worst):                     0.156  0.664\n",
            "    fractal dimension (worst):            0.055  0.208\n",
            "    ===================================== ====== ======\n",
            "\n",
            "    :Missing Attribute Values: None\n",
            "\n",
            "    :Class Distribution: 212 - Malignant, 357 - Benign\n",
            "\n",
            "    :Creator:  Dr. William H. Wolberg, W. Nick Street, Olvi L. Mangasarian\n",
            "\n",
            "    :Donor: Nick Street\n",
            "\n",
            "    :Date: November, 1995\n",
            "\n",
            "This is a copy of UCI ML Breast Cancer Wisconsin (Diagnostic) datasets.\n",
            "https://goo.gl/U2Uwz2\n",
            "\n",
            "Features are computed from a digitized image of a fine needle\n",
            "aspirate (FNA) of a breast mass.  They describe\n",
            "characteristics of the cell nuclei present in the image.\n",
            "\n",
            "Separating plane described above was obtained using\n",
            "Multisurface Method-Tree (MSM-T) [K. P. Bennett, \"Decision Tree\n",
            "Construction Via Linear Programming.\" Proceedings of the 4th\n",
            "Midwest Artificial Intelligence and Cognitive Science Society,\n",
            "pp. 97-101, 1992], a classification method which uses linear\n",
            "programming to construct a decision tree.  Relevant features\n",
            "were selected using an exhaustive search in the space of 1-4\n",
            "features and 1-3 separating planes.\n",
            "\n",
            "The actual linear program used to obtain the separating plane\n",
            "in the 3-dimensional space is that described in:\n",
            "[K. P. Bennett and O. L. Mangasarian: \"Robust Linear\n",
            "Programming Discrimination of Two Linearly Inseparable Sets\",\n",
            "Optimization Methods and Software 1, 1992, 23-34].\n",
            "\n",
            "This database is also available through the UW CS ftp server:\n",
            "\n",
            "ftp ftp.cs.wisc.edu\n",
            "cd math-prog/cpo-dataset/machine-learn/WDBC/\n",
            "\n",
            ".. topic:: References\n",
            "\n",
            "   - W.N. Street, W.H. Wolberg and O.L. Mangasarian. Nuclear feature extraction \n",
            "     for breast tumor diagnosis. IS&T/SPIE 1993 International Symposium on \n",
            "     Electronic Imaging: Science and Technology, volume 1905, pages 861-870,\n",
            "     San Jose, CA, 1993.\n",
            "   - O.L. Mangasarian, W.N. Street and W.H. Wolberg. Breast cancer diagnosis and \n",
            "     prognosis via linear programming. Operations Research, 43(4), pages 570-577, \n",
            "     July-August 1995.\n",
            "   - W.H. Wolberg, W.N. Street, and O.L. Mangasarian. Machine learning techniques\n",
            "     to diagnose breast cancer from fine-needle aspirates. Cancer Letters 77 (1994) \n",
            "     163-171.\n"
          ]
        }
      ]
    },
    {
      "cell_type": "code",
      "metadata": {
        "colab": {
          "base_uri": "https://localhost:8080/"
        },
        "id": "YM5bqGJ0SnCi",
        "outputId": "35098a76-5b8d-442d-e700-bb56bed15b12"
      },
      "source": [
        "data['data'].shape"
      ],
      "execution_count": 5,
      "outputs": [
        {
          "output_type": "execute_result",
          "data": {
            "text/plain": [
              "(569, 30)"
            ]
          },
          "metadata": {},
          "execution_count": 5
        }
      ]
    },
    {
      "cell_type": "code",
      "metadata": {
        "colab": {
          "base_uri": "https://localhost:8080/"
        },
        "id": "tW8tL2ZUSrIp",
        "outputId": "f47186aa-2547-4906-fe7b-d9e255785afa"
      },
      "source": [
        "data['feature_names']"
      ],
      "execution_count": 6,
      "outputs": [
        {
          "output_type": "execute_result",
          "data": {
            "text/plain": [
              "array(['mean radius', 'mean texture', 'mean perimeter', 'mean area',\n",
              "       'mean smoothness', 'mean compactness', 'mean concavity',\n",
              "       'mean concave points', 'mean symmetry', 'mean fractal dimension',\n",
              "       'radius error', 'texture error', 'perimeter error', 'area error',\n",
              "       'smoothness error', 'compactness error', 'concavity error',\n",
              "       'concave points error', 'symmetry error',\n",
              "       'fractal dimension error', 'worst radius', 'worst texture',\n",
              "       'worst perimeter', 'worst area', 'worst smoothness',\n",
              "       'worst compactness', 'worst concavity', 'worst concave points',\n",
              "       'worst symmetry', 'worst fractal dimension'], dtype='<U23')"
            ]
          },
          "metadata": {},
          "execution_count": 6
        }
      ]
    },
    {
      "cell_type": "code",
      "metadata": {
        "colab": {
          "base_uri": "https://localhost:8080/"
        },
        "id": "iyRbpYjaSvJh",
        "outputId": "43cae82f-8033-4c50-d54c-4db8a4fee2a2"
      },
      "source": [
        "data['data'][0]"
      ],
      "execution_count": 7,
      "outputs": [
        {
          "output_type": "execute_result",
          "data": {
            "text/plain": [
              "array([1.799e+01, 1.038e+01, 1.228e+02, 1.001e+03, 1.184e-01, 2.776e-01,\n",
              "       3.001e-01, 1.471e-01, 2.419e-01, 7.871e-02, 1.095e+00, 9.053e-01,\n",
              "       8.589e+00, 1.534e+02, 6.399e-03, 4.904e-02, 5.373e-02, 1.587e-02,\n",
              "       3.003e-02, 6.193e-03, 2.538e+01, 1.733e+01, 1.846e+02, 2.019e+03,\n",
              "       1.622e-01, 6.656e-01, 7.119e-01, 2.654e-01, 4.601e-01, 1.189e-01])"
            ]
          },
          "metadata": {},
          "execution_count": 7
        }
      ]
    },
    {
      "cell_type": "code",
      "metadata": {
        "colab": {
          "base_uri": "https://localhost:8080/"
        },
        "id": "MIjPNgU_S0bq",
        "outputId": "aec709b4-f369-4133-c7b9-22100b2c6c09"
      },
      "source": [
        "j = 0\n",
        "for i in data['feature_names']:\n",
        "  print(i,\":\",data['data'][0][j])\n",
        "  j+=1"
      ],
      "execution_count": 8,
      "outputs": [
        {
          "output_type": "stream",
          "name": "stdout",
          "text": [
            "mean radius : 17.99\n",
            "mean texture : 10.38\n",
            "mean perimeter : 122.8\n",
            "mean area : 1001.0\n",
            "mean smoothness : 0.1184\n",
            "mean compactness : 0.2776\n",
            "mean concavity : 0.3001\n",
            "mean concave points : 0.1471\n",
            "mean symmetry : 0.2419\n",
            "mean fractal dimension : 0.07871\n",
            "radius error : 1.095\n",
            "texture error : 0.9053\n",
            "perimeter error : 8.589\n",
            "area error : 153.4\n",
            "smoothness error : 0.006399\n",
            "compactness error : 0.04904\n",
            "concavity error : 0.05373\n",
            "concave points error : 0.01587\n",
            "symmetry error : 0.03003\n",
            "fractal dimension error : 0.006193\n",
            "worst radius : 25.38\n",
            "worst texture : 17.33\n",
            "worst perimeter : 184.6\n",
            "worst area : 2019.0\n",
            "worst smoothness : 0.1622\n",
            "worst compactness : 0.6656\n",
            "worst concavity : 0.7119\n",
            "worst concave points : 0.2654\n",
            "worst symmetry : 0.4601\n",
            "worst fractal dimension : 0.1189\n"
          ]
        }
      ]
    },
    {
      "cell_type": "code",
      "metadata": {
        "id": "pgu3QDnpS5SJ"
      },
      "source": [
        "feature = data['data']"
      ],
      "execution_count": 9,
      "outputs": []
    },
    {
      "cell_type": "code",
      "metadata": {
        "id": "xqNf8qkqS9gC"
      },
      "source": [
        "label = data['target']"
      ],
      "execution_count": 10,
      "outputs": []
    },
    {
      "cell_type": "code",
      "metadata": {
        "colab": {
          "base_uri": "https://localhost:8080/"
        },
        "id": "vkIW2TdOTBLa",
        "outputId": "5228c6e2-d131-4618-c985-3b3508656de1"
      },
      "source": [
        "data['target_names']"
      ],
      "execution_count": 11,
      "outputs": [
        {
          "output_type": "execute_result",
          "data": {
            "text/plain": [
              "array(['malignant', 'benign'], dtype='<U9')"
            ]
          },
          "metadata": {},
          "execution_count": 11
        }
      ]
    },
    {
      "cell_type": "code",
      "metadata": {
        "colab": {
          "base_uri": "https://localhost:8080/"
        },
        "id": "MLCUxH6JTF5T",
        "outputId": "f9dd7edc-d6b9-4a02-f770-5c859accac3f"
      },
      "source": [
        "feature.shape"
      ],
      "execution_count": 12,
      "outputs": [
        {
          "output_type": "execute_result",
          "data": {
            "text/plain": [
              "(569, 30)"
            ]
          },
          "metadata": {},
          "execution_count": 12
        }
      ]
    },
    {
      "cell_type": "code",
      "metadata": {
        "colab": {
          "base_uri": "https://localhost:8080/"
        },
        "id": "YMRfDigZTKkC",
        "outputId": "29146e6e-178f-4327-f8a0-26ad6fc65603"
      },
      "source": [
        "label.shape"
      ],
      "execution_count": 13,
      "outputs": [
        {
          "output_type": "execute_result",
          "data": {
            "text/plain": [
              "(569,)"
            ]
          },
          "metadata": {},
          "execution_count": 13
        }
      ]
    },
    {
      "cell_type": "code",
      "metadata": {
        "id": "wpI_2GojTO6a"
      },
      "source": [
        "scale = StandardScaler()\n",
        "\n",
        "feature = scale.fit_transform(feature)"
      ],
      "execution_count": 14,
      "outputs": []
    },
    {
      "cell_type": "code",
      "metadata": {
        "colab": {
          "base_uri": "https://localhost:8080/"
        },
        "id": "6edHMqywTTC7",
        "outputId": "700668c7-1f20-4abe-9d9b-39ddec4a490c"
      },
      "source": [
        "j = 0\n",
        "for i in data['feature_names']:\n",
        "  print(i,\":\",feature[0][j])\n",
        "  j+=1"
      ],
      "execution_count": 15,
      "outputs": [
        {
          "output_type": "stream",
          "name": "stdout",
          "text": [
            "mean radius : 1.0970639814699807\n",
            "mean texture : -2.0733350146975935\n",
            "mean perimeter : 1.2699336881399383\n",
            "mean area : 0.9843749048031144\n",
            "mean smoothness : 1.568466329243428\n",
            "mean compactness : 3.2835146709868264\n",
            "mean concavity : 2.652873983743168\n",
            "mean concave points : 2.532475216403245\n",
            "mean symmetry : 2.2175150059646405\n",
            "mean fractal dimension : 2.255746885296269\n",
            "radius error : 2.4897339267376193\n",
            "texture error : -0.5652650590684639\n",
            "perimeter error : 2.833030865855184\n",
            "area error : 2.4875775569611043\n",
            "smoothness error : -0.21400164666895383\n",
            "compactness error : 1.3168615683959484\n",
            "concavity error : 0.72402615808036\n",
            "concave points error : 0.6608199414286064\n",
            "symmetry error : 1.1487566671861758\n",
            "fractal dimension error : 0.9070830809973359\n",
            "worst radius : 1.8866896251792757\n",
            "worst texture : -1.3592934737640827\n",
            "worst perimeter : 2.3036006236225606\n",
            "worst area : 2.0012374893299207\n",
            "worst smoothness : 1.3076862710715387\n",
            "worst compactness : 2.616665023512603\n",
            "worst concavity : 2.1095263465722556\n",
            "worst concave points : 2.296076127561788\n",
            "worst symmetry : 2.750622244124955\n",
            "worst fractal dimension : 1.9370146123781782\n"
          ]
        }
      ]
    },
    {
      "cell_type": "code",
      "metadata": {
        "colab": {
          "base_uri": "https://localhost:8080/"
        },
        "id": "1BoIb9AHTaKt",
        "outputId": "742a0ecb-10bf-4bd6-f24b-071e98bf44d7"
      },
      "source": [
        "print(feature[568])\n",
        "print(data['target_names'][label[568]],label[568])"
      ],
      "execution_count": 16,
      "outputs": [
        {
          "output_type": "stream",
          "name": "stdout",
          "text": [
            "[-1.80840125  1.22179204 -1.81438851 -1.34778924 -3.11208479 -1.15075248\n",
            " -1.11487284 -1.26181958 -0.8200699  -0.56103238 -0.07027874  0.3830925\n",
            " -0.15744905 -0.46615196  0.04934236 -1.16351619 -1.05750068 -1.91344745\n",
            "  0.75282996 -0.382754   -1.41089258  0.76418957 -1.43273495 -1.07581292\n",
            " -1.85901852 -1.2075525  -1.30583065 -1.74506282 -0.04813821 -0.75120669]\n",
            "benign 1\n"
          ]
        }
      ]
    },
    {
      "cell_type": "code",
      "metadata": {
        "id": "vK-ELz-cTeiq"
      },
      "source": [
        "df_frt = pd.DataFrame(feature , columns = data['feature_names'])\n",
        "df_lbl = pd.DataFrame(label , columns = ['label'])\n",
        "df = pd.concat([df_frt, df_lbl], axis=1)\n",
        "df = df.sample(frac = 1)\n",
        "\n",
        "feature = df.values[ : , : 30]\n",
        "label = df.values[ : ,30: ]"
      ],
      "execution_count": 17,
      "outputs": []
    },
    {
      "cell_type": "code",
      "metadata": {
        "colab": {
          "base_uri": "https://localhost:8080/",
          "height": 470
        },
        "id": "tDqEQy10TjEb",
        "outputId": "f95a0288-f8f6-4ef2-cac2-08a24d6d4e8e"
      },
      "source": [
        "df\n"
      ],
      "execution_count": 18,
      "outputs": [
        {
          "output_type": "execute_result",
          "data": {
            "text/html": [
              "<div>\n",
              "<style scoped>\n",
              "    .dataframe tbody tr th:only-of-type {\n",
              "        vertical-align: middle;\n",
              "    }\n",
              "\n",
              "    .dataframe tbody tr th {\n",
              "        vertical-align: top;\n",
              "    }\n",
              "\n",
              "    .dataframe thead th {\n",
              "        text-align: right;\n",
              "    }\n",
              "</style>\n",
              "<table border=\"1\" class=\"dataframe\">\n",
              "  <thead>\n",
              "    <tr style=\"text-align: right;\">\n",
              "      <th></th>\n",
              "      <th>mean radius</th>\n",
              "      <th>mean texture</th>\n",
              "      <th>mean perimeter</th>\n",
              "      <th>mean area</th>\n",
              "      <th>mean smoothness</th>\n",
              "      <th>mean compactness</th>\n",
              "      <th>mean concavity</th>\n",
              "      <th>mean concave points</th>\n",
              "      <th>mean symmetry</th>\n",
              "      <th>mean fractal dimension</th>\n",
              "      <th>radius error</th>\n",
              "      <th>texture error</th>\n",
              "      <th>perimeter error</th>\n",
              "      <th>area error</th>\n",
              "      <th>smoothness error</th>\n",
              "      <th>compactness error</th>\n",
              "      <th>concavity error</th>\n",
              "      <th>concave points error</th>\n",
              "      <th>symmetry error</th>\n",
              "      <th>fractal dimension error</th>\n",
              "      <th>worst radius</th>\n",
              "      <th>worst texture</th>\n",
              "      <th>worst perimeter</th>\n",
              "      <th>worst area</th>\n",
              "      <th>worst smoothness</th>\n",
              "      <th>worst compactness</th>\n",
              "      <th>worst concavity</th>\n",
              "      <th>worst concave points</th>\n",
              "      <th>worst symmetry</th>\n",
              "      <th>worst fractal dimension</th>\n",
              "      <th>label</th>\n",
              "    </tr>\n",
              "  </thead>\n",
              "  <tbody>\n",
              "    <tr>\n",
              "      <th>341</th>\n",
              "      <td>-1.284111</td>\n",
              "      <td>-0.570050</td>\n",
              "      <td>-1.249259</td>\n",
              "      <td>-1.064801</td>\n",
              "      <td>-0.821981</td>\n",
              "      <td>-0.228573</td>\n",
              "      <td>-0.057493</td>\n",
              "      <td>-0.670622</td>\n",
              "      <td>0.819204</td>\n",
              "      <td>1.198214</td>\n",
              "      <td>-0.796813</td>\n",
              "      <td>-0.497046</td>\n",
              "      <td>-0.711388</td>\n",
              "      <td>-0.621924</td>\n",
              "      <td>-0.362341</td>\n",
              "      <td>0.515964</td>\n",
              "      <td>0.609634</td>\n",
              "      <td>-0.533043</td>\n",
              "      <td>-0.368357</td>\n",
              "      <td>0.089304</td>\n",
              "      <td>-1.142928</td>\n",
              "      <td>-0.424570</td>\n",
              "      <td>-1.072624</td>\n",
              "      <td>-0.926390</td>\n",
              "      <td>-0.397530</td>\n",
              "      <td>0.555572</td>\n",
              "      <td>0.776774</td>\n",
              "      <td>-0.508663</td>\n",
              "      <td>0.131435</td>\n",
              "      <td>0.792678</td>\n",
              "      <td>1</td>\n",
              "    </tr>\n",
              "    <tr>\n",
              "      <th>531</th>\n",
              "      <td>-0.697906</td>\n",
              "      <td>0.169958</td>\n",
              "      <td>-0.690308</td>\n",
              "      <td>-0.678856</td>\n",
              "      <td>0.372887</td>\n",
              "      <td>-0.185933</td>\n",
              "      <td>-0.587564</td>\n",
              "      <td>-0.705443</td>\n",
              "      <td>0.172987</td>\n",
              "      <td>0.256925</td>\n",
              "      <td>-0.716327</td>\n",
              "      <td>-0.621147</td>\n",
              "      <td>-0.729209</td>\n",
              "      <td>-0.549978</td>\n",
              "      <td>-0.596684</td>\n",
              "      <td>-0.458749</td>\n",
              "      <td>-0.447411</td>\n",
              "      <td>-1.054061</td>\n",
              "      <td>-0.732803</td>\n",
              "      <td>-0.425118</td>\n",
              "      <td>-0.604513</td>\n",
              "      <td>0.510153</td>\n",
              "      <td>-0.603497</td>\n",
              "      <td>-0.580082</td>\n",
              "      <td>0.992068</td>\n",
              "      <td>0.268037</td>\n",
              "      <td>0.017326</td>\n",
              "      <td>-0.508663</td>\n",
              "      <td>0.493818</td>\n",
              "      <td>0.307790</td>\n",
              "      <td>1</td>\n",
              "    </tr>\n",
              "    <tr>\n",
              "      <th>95</th>\n",
              "      <td>1.741776</td>\n",
              "      <td>0.870405</td>\n",
              "      <td>1.665360</td>\n",
              "      <td>1.732374</td>\n",
              "      <td>-0.397123</td>\n",
              "      <td>0.510913</td>\n",
              "      <td>0.724430</td>\n",
              "      <td>0.977872</td>\n",
              "      <td>1.034609</td>\n",
              "      <td>-0.894169</td>\n",
              "      <td>1.271986</td>\n",
              "      <td>0.530054</td>\n",
              "      <td>0.835582</td>\n",
              "      <td>1.045806</td>\n",
              "      <td>-0.341673</td>\n",
              "      <td>0.522112</td>\n",
              "      <td>0.345705</td>\n",
              "      <td>0.144993</td>\n",
              "      <td>0.729825</td>\n",
              "      <td>0.233039</td>\n",
              "      <td>1.646474</td>\n",
              "      <td>0.962859</td>\n",
              "      <td>1.454704</td>\n",
              "      <td>1.528359</td>\n",
              "      <td>-0.586024</td>\n",
              "      <td>0.633818</td>\n",
              "      <td>0.660194</td>\n",
              "      <td>0.650081</td>\n",
              "      <td>1.275206</td>\n",
              "      <td>-0.014730</td>\n",
              "      <td>0</td>\n",
              "    </tr>\n",
              "    <tr>\n",
              "      <th>121</th>\n",
              "      <td>1.287353</td>\n",
              "      <td>-0.504892</td>\n",
              "      <td>1.212267</td>\n",
              "      <td>1.200527</td>\n",
              "      <td>0.643316</td>\n",
              "      <td>0.107247</td>\n",
              "      <td>0.714386</td>\n",
              "      <td>0.973229</td>\n",
              "      <td>0.563638</td>\n",
              "      <td>-0.094641</td>\n",
              "      <td>1.110294</td>\n",
              "      <td>0.660687</td>\n",
              "      <td>1.004388</td>\n",
              "      <td>1.103010</td>\n",
              "      <td>0.353688</td>\n",
              "      <td>-0.249722</td>\n",
              "      <td>0.050607</td>\n",
              "      <td>0.683529</td>\n",
              "      <td>-0.011175</td>\n",
              "      <td>0.293181</td>\n",
              "      <td>1.238521</td>\n",
              "      <td>-0.126566</td>\n",
              "      <td>1.135996</td>\n",
              "      <td>1.175019</td>\n",
              "      <td>0.786039</td>\n",
              "      <td>-0.160085</td>\n",
              "      <td>0.263919</td>\n",
              "      <td>0.803870</td>\n",
              "      <td>-0.010929</td>\n",
              "      <td>0.034035</td>\n",
              "      <td>0</td>\n",
              "    </tr>\n",
              "    <tr>\n",
              "      <th>314</th>\n",
              "      <td>-1.570681</td>\n",
              "      <td>-0.160486</td>\n",
              "      <td>-1.560245</td>\n",
              "      <td>-1.233456</td>\n",
              "      <td>0.785646</td>\n",
              "      <td>-0.869323</td>\n",
              "      <td>-1.114873</td>\n",
              "      <td>-1.261820</td>\n",
              "      <td>1.282873</td>\n",
              "      <td>1.529934</td>\n",
              "      <td>-0.246769</td>\n",
              "      <td>2.830642</td>\n",
              "      <td>-0.318829</td>\n",
              "      <td>-0.495634</td>\n",
              "      <td>4.569859</td>\n",
              "      <td>-0.639831</td>\n",
              "      <td>-1.057501</td>\n",
              "      <td>-1.913447</td>\n",
              "      <td>4.954254</td>\n",
              "      <td>1.144247</td>\n",
              "      <td>-1.515262</td>\n",
              "      <td>-0.527162</td>\n",
              "      <td>-1.507497</td>\n",
              "      <td>-1.125913</td>\n",
              "      <td>0.102199</td>\n",
              "      <td>-1.123391</td>\n",
              "      <td>-1.305831</td>\n",
              "      <td>-1.745063</td>\n",
              "      <td>0.390280</td>\n",
              "      <td>-0.154378</td>\n",
              "      <td>1</td>\n",
              "    </tr>\n",
              "    <tr>\n",
              "      <th>...</th>\n",
              "      <td>...</td>\n",
              "      <td>...</td>\n",
              "      <td>...</td>\n",
              "      <td>...</td>\n",
              "      <td>...</td>\n",
              "      <td>...</td>\n",
              "      <td>...</td>\n",
              "      <td>...</td>\n",
              "      <td>...</td>\n",
              "      <td>...</td>\n",
              "      <td>...</td>\n",
              "      <td>...</td>\n",
              "      <td>...</td>\n",
              "      <td>...</td>\n",
              "      <td>...</td>\n",
              "      <td>...</td>\n",
              "      <td>...</td>\n",
              "      <td>...</td>\n",
              "      <td>...</td>\n",
              "      <td>...</td>\n",
              "      <td>...</td>\n",
              "      <td>...</td>\n",
              "      <td>...</td>\n",
              "      <td>...</td>\n",
              "      <td>...</td>\n",
              "      <td>...</td>\n",
              "      <td>...</td>\n",
              "      <td>...</td>\n",
              "      <td>...</td>\n",
              "      <td>...</td>\n",
              "      <td>...</td>\n",
              "    </tr>\n",
              "    <tr>\n",
              "      <th>80</th>\n",
              "      <td>-0.760389</td>\n",
              "      <td>0.391029</td>\n",
              "      <td>-0.747974</td>\n",
              "      <td>-0.720665</td>\n",
              "      <td>0.984910</td>\n",
              "      <td>-0.203179</td>\n",
              "      <td>-0.538474</td>\n",
              "      <td>-0.685840</td>\n",
              "      <td>0.110921</td>\n",
              "      <td>1.028102</td>\n",
              "      <td>-0.288997</td>\n",
              "      <td>1.736593</td>\n",
              "      <td>-0.390608</td>\n",
              "      <td>-0.345803</td>\n",
              "      <td>1.109719</td>\n",
              "      <td>-0.470486</td>\n",
              "      <td>-0.200060</td>\n",
              "      <td>-0.695902</td>\n",
              "      <td>-0.288445</td>\n",
              "      <td>0.068500</td>\n",
              "      <td>-0.654213</td>\n",
              "      <td>1.055680</td>\n",
              "      <td>-0.677068</td>\n",
              "      <td>-0.624908</td>\n",
              "      <td>1.022753</td>\n",
              "      <td>-0.551311</td>\n",
              "      <td>-0.463865</td>\n",
              "      <td>-0.812129</td>\n",
              "      <td>-0.224476</td>\n",
              "      <td>0.252928</td>\n",
              "      <td>1</td>\n",
              "    </tr>\n",
              "    <tr>\n",
              "      <th>100</th>\n",
              "      <td>-0.146918</td>\n",
              "      <td>1.324183</td>\n",
              "      <td>-0.161426</td>\n",
              "      <td>-0.205313</td>\n",
              "      <td>-0.105345</td>\n",
              "      <td>-0.364456</td>\n",
              "      <td>-0.032007</td>\n",
              "      <td>-0.103928</td>\n",
              "      <td>-0.739749</td>\n",
              "      <td>-0.579461</td>\n",
              "      <td>0.185253</td>\n",
              "      <td>0.132713</td>\n",
              "      <td>-0.002504</td>\n",
              "      <td>0.061669</td>\n",
              "      <td>-0.389675</td>\n",
              "      <td>-0.592325</td>\n",
              "      <td>-0.179834</td>\n",
              "      <td>-0.304165</td>\n",
              "      <td>-0.713431</td>\n",
              "      <td>-0.544646</td>\n",
              "      <td>0.149267</td>\n",
              "      <td>1.562124</td>\n",
              "      <td>0.039877</td>\n",
              "      <td>0.045560</td>\n",
              "      <td>-0.257255</td>\n",
              "      <td>-0.381461</td>\n",
              "      <td>0.214505</td>\n",
              "      <td>0.057766</td>\n",
              "      <td>-0.404050</td>\n",
              "      <td>-0.552818</td>\n",
              "      <td>0</td>\n",
              "    </tr>\n",
              "    <tr>\n",
              "      <th>366</th>\n",
              "      <td>1.724735</td>\n",
              "      <td>1.754690</td>\n",
              "      <td>1.718907</td>\n",
              "      <td>1.647051</td>\n",
              "      <td>0.191415</td>\n",
              "      <td>1.185586</td>\n",
              "      <td>0.945398</td>\n",
              "      <td>2.001119</td>\n",
              "      <td>0.231402</td>\n",
              "      <td>-0.368238</td>\n",
              "      <td>2.060599</td>\n",
              "      <td>1.224948</td>\n",
              "      <td>2.109791</td>\n",
              "      <td>1.391892</td>\n",
              "      <td>0.466026</td>\n",
              "      <td>1.188316</td>\n",
              "      <td>0.900090</td>\n",
              "      <td>2.200190</td>\n",
              "      <td>2.004782</td>\n",
              "      <td>0.185758</td>\n",
              "      <td>1.640261</td>\n",
              "      <td>1.324372</td>\n",
              "      <td>1.570869</td>\n",
              "      <td>1.389484</td>\n",
              "      <td>-0.200268</td>\n",
              "      <td>0.555572</td>\n",
              "      <td>0.470692</td>\n",
              "      <td>1.531701</td>\n",
              "      <td>0.598974</td>\n",
              "      <td>-0.422591</td>\n",
              "      <td>0</td>\n",
              "    </tr>\n",
              "    <tr>\n",
              "      <th>459</th>\n",
              "      <td>-1.241793</td>\n",
              "      <td>2.073499</td>\n",
              "      <td>-1.247611</td>\n",
              "      <td>-1.035222</td>\n",
              "      <td>-1.175673</td>\n",
              "      <td>-1.100721</td>\n",
              "      <td>-0.921401</td>\n",
              "      <td>-0.992788</td>\n",
              "      <td>-0.695938</td>\n",
              "      <td>-0.464635</td>\n",
              "      <td>-0.819551</td>\n",
              "      <td>0.853008</td>\n",
              "      <td>-0.803464</td>\n",
              "      <td>-0.639305</td>\n",
              "      <td>-0.150999</td>\n",
              "      <td>-0.714164</td>\n",
              "      <td>-0.576724</td>\n",
              "      <td>-0.923320</td>\n",
              "      <td>-0.581455</td>\n",
              "      <td>-0.577553</td>\n",
              "      <td>-1.159494</td>\n",
              "      <td>1.830816</td>\n",
              "      <td>-1.168535</td>\n",
              "      <td>-0.932895</td>\n",
              "      <td>-0.936711</td>\n",
              "      <td>-0.912002</td>\n",
              "      <td>-0.960889</td>\n",
              "      <td>-1.004137</td>\n",
              "      <td>-0.937918</td>\n",
              "      <td>-0.655891</td>\n",
              "      <td>1</td>\n",
              "    </tr>\n",
              "    <tr>\n",
              "      <th>75</th>\n",
              "      <td>0.551757</td>\n",
              "      <td>0.083856</td>\n",
              "      <td>0.499677</td>\n",
              "      <td>0.463051</td>\n",
              "      <td>-0.333074</td>\n",
              "      <td>-0.380943</td>\n",
              "      <td>0.111622</td>\n",
              "      <td>0.450385</td>\n",
              "      <td>-0.049721</td>\n",
              "      <td>-1.259911</td>\n",
              "      <td>1.235173</td>\n",
              "      <td>-0.364417</td>\n",
              "      <td>1.070722</td>\n",
              "      <td>0.856151</td>\n",
              "      <td>1.259725</td>\n",
              "      <td>-0.192715</td>\n",
              "      <td>0.102995</td>\n",
              "      <td>1.020925</td>\n",
              "      <td>-0.610514</td>\n",
              "      <td>-0.698594</td>\n",
              "      <td>0.724957</td>\n",
              "      <td>-0.181933</td>\n",
              "      <td>0.641551</td>\n",
              "      <td>0.601939</td>\n",
              "      <td>0.772888</td>\n",
              "      <td>-0.316575</td>\n",
              "      <td>0.051389</td>\n",
              "      <td>0.569380</td>\n",
              "      <td>-0.405668</td>\n",
              "      <td>-1.112518</td>\n",
              "      <td>0</td>\n",
              "    </tr>\n",
              "  </tbody>\n",
              "</table>\n",
              "<p>569 rows × 31 columns</p>\n",
              "</div>"
            ],
            "text/plain": [
              "     mean radius  mean texture  ...  worst fractal dimension  label\n",
              "341    -1.284111     -0.570050  ...                 0.792678      1\n",
              "531    -0.697906      0.169958  ...                 0.307790      1\n",
              "95      1.741776      0.870405  ...                -0.014730      0\n",
              "121     1.287353     -0.504892  ...                 0.034035      0\n",
              "314    -1.570681     -0.160486  ...                -0.154378      1\n",
              "..           ...           ...  ...                      ...    ...\n",
              "80     -0.760389      0.391029  ...                 0.252928      1\n",
              "100    -0.146918      1.324183  ...                -0.552818      0\n",
              "366     1.724735      1.754690  ...                -0.422591      0\n",
              "459    -1.241793      2.073499  ...                -0.655891      1\n",
              "75      0.551757      0.083856  ...                -1.112518      0\n",
              "\n",
              "[569 rows x 31 columns]"
            ]
          },
          "metadata": {},
          "execution_count": 18
        }
      ]
    },
    {
      "cell_type": "code",
      "metadata": {
        "id": "PGTl7KGvToF7"
      },
      "source": [
        "#500 Training\n",
        "X_train = feature[:500]\n",
        "y_train = label[:500]\n",
        "\n",
        "#35 Validation\n",
        "X_val = feature[500:535]\n",
        "y_val = label[500:535]\n",
        "\n",
        "#34 Testing\n",
        "X_test = feature[535:]\n",
        "y_test = label[535:]"
      ],
      "execution_count": 19,
      "outputs": []
    },
    {
      "cell_type": "code",
      "metadata": {
        "id": "iy42zsqATtl7"
      },
      "source": [
        "model = Sequential()\n",
        "\n",
        "model.add(Dense(32, activation = 'relu', input_dim = 30))\n",
        "model.add(Dense(64, activation = 'relu'))\n",
        "model.add(Dense(128, activation = 'relu'))\n",
        "model.add(Dense(64, activation = 'relu'))\n",
        "model.add(Dense(32, activation = 'relu'))\n",
        "model.add(Dense(1, activation = 'sigmoid'))\n",
        "\n",
        "model.compile( loss = 'binary_crossentropy' , optimizer = 'adam' , metrics = ['accuracy'])"
      ],
      "execution_count": 20,
      "outputs": []
    },
    {
      "cell_type": "code",
      "metadata": {
        "colab": {
          "base_uri": "https://localhost:8080/"
        },
        "id": "ySeWvml6Txx6",
        "outputId": "f7483ef5-a249-442a-a2e8-22b91852a0dd"
      },
      "source": [
        "model.fit( X_train , y_train, epochs = 10, batch_size = 5, validation_data = (X_val, y_val))"
      ],
      "execution_count": 21,
      "outputs": [
        {
          "output_type": "stream",
          "name": "stdout",
          "text": [
            "Epoch 1/10\n",
            "100/100 [==============================] - 1s 3ms/step - loss: 0.2525 - accuracy: 0.9040 - val_loss: 0.0713 - val_accuracy: 0.9714\n",
            "Epoch 2/10\n",
            "100/100 [==============================] - 0s 2ms/step - loss: 0.1178 - accuracy: 0.9620 - val_loss: 0.1102 - val_accuracy: 0.9714\n",
            "Epoch 3/10\n",
            "100/100 [==============================] - 0s 2ms/step - loss: 0.0851 - accuracy: 0.9720 - val_loss: 0.0930 - val_accuracy: 0.9714\n",
            "Epoch 4/10\n",
            "100/100 [==============================] - 0s 2ms/step - loss: 0.0689 - accuracy: 0.9740 - val_loss: 0.0156 - val_accuracy: 1.0000\n",
            "Epoch 5/10\n",
            "100/100 [==============================] - 0s 2ms/step - loss: 0.0512 - accuracy: 0.9860 - val_loss: 0.0361 - val_accuracy: 0.9714\n",
            "Epoch 6/10\n",
            "100/100 [==============================] - 0s 2ms/step - loss: 0.0447 - accuracy: 0.9860 - val_loss: 0.1241 - val_accuracy: 0.9714\n",
            "Epoch 7/10\n",
            "100/100 [==============================] - 0s 2ms/step - loss: 0.0441 - accuracy: 0.9860 - val_loss: 0.0056 - val_accuracy: 1.0000\n",
            "Epoch 8/10\n",
            "100/100 [==============================] - 0s 2ms/step - loss: 0.0310 - accuracy: 0.9860 - val_loss: 0.0282 - val_accuracy: 0.9714\n",
            "Epoch 9/10\n",
            "100/100 [==============================] - 0s 2ms/step - loss: 0.0194 - accuracy: 0.9920 - val_loss: 0.1885 - val_accuracy: 0.9714\n",
            "Epoch 10/10\n",
            "100/100 [==============================] - 0s 2ms/step - loss: 0.0355 - accuracy: 0.9840 - val_loss: 0.0019 - val_accuracy: 1.0000\n"
          ]
        },
        {
          "output_type": "execute_result",
          "data": {
            "text/plain": [
              "<keras.callbacks.History at 0x7fc336feb050>"
            ]
          },
          "metadata": {},
          "execution_count": 21
        }
      ]
    },
    {
      "cell_type": "code",
      "metadata": {
        "colab": {
          "base_uri": "https://localhost:8080/"
        },
        "id": "fFW1LJ80T4Qm",
        "outputId": "9e84c421-4ff7-41a2-b9a2-c7454c8ac45d"
      },
      "source": [
        "model.evaluate(X_test , y_test)"
      ],
      "execution_count": 22,
      "outputs": [
        {
          "output_type": "stream",
          "name": "stdout",
          "text": [
            "2/2 [==============================] - 0s 4ms/step - loss: 0.1299 - accuracy: 0.9412\n"
          ]
        },
        {
          "output_type": "execute_result",
          "data": {
            "text/plain": [
              "[0.12991654872894287, 0.9411764740943909]"
            ]
          },
          "metadata": {},
          "execution_count": 22
        }
      ]
    },
    {
      "cell_type": "code",
      "metadata": {
        "colab": {
          "base_uri": "https://localhost:8080/"
        },
        "id": "Fi4JOBiLT757",
        "outputId": "340324f9-f8a1-4f2f-db1e-5f935d97def5"
      },
      "source": [
        "model.evaluate(X_val , y_val)"
      ],
      "execution_count": 23,
      "outputs": [
        {
          "output_type": "stream",
          "name": "stdout",
          "text": [
            "2/2 [==============================] - 0s 6ms/step - loss: 0.0019 - accuracy: 1.0000\n"
          ]
        },
        {
          "output_type": "execute_result",
          "data": {
            "text/plain": [
              "[0.001915834262035787, 1.0]"
            ]
          },
          "metadata": {},
          "execution_count": 23
        }
      ]
    },
    {
      "cell_type": "code",
      "metadata": {
        "id": "rLPrhA-iT_ge"
      },
      "source": [
        "for i in range(30):\n",
        "  sample = X_test[i]\n",
        "  sample = np.reshape(sample, (1,30))\n",
        "\n",
        "  if (model.predict(sample)[0][0] > 0.5):\n",
        "    print(\"-Benign\")\n",
        "  else:\n",
        "    print(\"-Malignant\")\n",
        "\n",
        "  if (y_test[i] == 1):\n",
        "    print(\"*Banign\")\n",
        "  else:\n",
        "    print(\"*Melignant\")\n",
        "  print(\"-----------\")"
      ],
      "execution_count": null,
      "outputs": []
    },
    {
      "cell_type": "code",
      "metadata": {
        "colab": {
          "base_uri": "https://localhost:8080/"
        },
        "id": "7gZWt9NfUC9G",
        "outputId": "248d80f1-3ce4-4b2c-cbe3-2129e35039c5"
      },
      "source": [
        "t = 0\n",
        "for i in y_val:\n",
        "  if (i == 1):\n",
        "    t += 1\n",
        "\n",
        "print(t)"
      ],
      "execution_count": 24,
      "outputs": [
        {
          "output_type": "stream",
          "name": "stdout",
          "text": [
            "21\n"
          ]
        }
      ]
    },
    {
      "cell_type": "code",
      "metadata": {
        "colab": {
          "base_uri": "https://localhost:8080/"
        },
        "id": "NgovZN4lUHjs",
        "outputId": "23d4b424-38f9-4584-a83d-0f18f6dd4c3a"
      },
      "source": [
        "t = 0\n",
        "for i in y_test:\n",
        "  if (i == 1):\n",
        "    t += 1\n",
        "\n",
        "print(t)"
      ],
      "execution_count": 25,
      "outputs": [
        {
          "output_type": "stream",
          "name": "stdout",
          "text": [
            "20\n"
          ]
        }
      ]
    },
    {
      "cell_type": "code",
      "metadata": {
        "colab": {
          "base_uri": "https://localhost:8080/"
        },
        "id": "Q06lHNLfULg9",
        "outputId": "28891705-7fd0-44ec-d846-a8a8378e76dc"
      },
      "source": [
        "X_test[0] * -.1"
      ],
      "execution_count": 26,
      "outputs": [
        {
          "output_type": "execute_result",
          "data": {
            "text/plain": [
              "array([-0.02450214, -0.13753785, -0.01470888, -0.01248871,  0.0177222 ,\n",
              "        0.10050156,  0.08138046,  0.0514052 ,  0.09003907,  0.10997219,\n",
              "       -0.29192299, -0.17619939, -0.25795752, -0.14446965,  0.00526618,\n",
              "        0.08125299,  0.0454706 , -0.11961118,  0.153289  ,  0.07719746,\n",
              "        0.02648979,  0.00777128,  0.03491261,  0.03195589,  0.16876202,\n",
              "        0.12910776,  0.1190786 ,  0.13036438,  0.21609597,  0.16018395])"
            ]
          },
          "metadata": {},
          "execution_count": 26
        }
      ]
    }
  ]
}